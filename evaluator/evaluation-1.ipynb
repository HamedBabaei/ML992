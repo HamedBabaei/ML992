{
 "cells": [
  {
   "cell_type": "code",
   "execution_count": 1,
   "metadata": {},
   "outputs": [],
   "source": [
    "import evaluator\n",
    "\n",
    "path_to_gt1 = '../dataset/validation/Validation-GT.csv'"
   ]
  },
  {
   "cell_type": "markdown",
   "metadata": {},
   "source": [
    "# 1- Random Baseline"
   ]
  },
  {
   "cell_type": "code",
   "execution_count": 2,
   "metadata": {
    "scrolled": true
   },
   "outputs": [
    {
     "name": "stdout",
     "output_type": "stream",
     "text": [
      "Accuracy: 0.5036\n",
      "\n",
      "F1 Score: 0.5039968025579536\n",
      "\n",
      "Classification Report:\n",
      "               precision    recall  f1-score   support\n",
      "\n",
      "           0       0.50      0.51      0.50      2486\n",
      "           1       0.51      0.50      0.50      2514\n",
      "\n",
      "    accuracy                           0.50      5000\n",
      "   macro avg       0.50      0.50      0.50      5000\n",
      "weighted avg       0.50      0.50      0.50      5000\n",
      "\n"
     ]
    }
   ],
   "source": [
    "path_to_model1_pred = '../submissions/organizer__Random(Baseline)__Test1.csv'\n",
    "\n",
    "evaluator.evaluate(path_to_gt1, path_to_model1_pred)"
   ]
  },
  {
   "cell_type": "markdown",
   "metadata": {},
   "source": [
    "# 2- NGRAMLR"
   ]
  },
  {
   "cell_type": "code",
   "execution_count": 3,
   "metadata": {},
   "outputs": [
    {
     "name": "stdout",
     "output_type": "stream",
     "text": [
      "Accuracy: 0.8888\n",
      "\n",
      "F1 Score: 0.8903785488958991\n",
      "\n",
      "Classification Report:\n",
      "               precision    recall  f1-score   support\n",
      "\n",
      "           0       0.90      0.88      0.89      2486\n",
      "           1       0.88      0.90      0.89      2514\n",
      "\n",
      "    accuracy                           0.89      5000\n",
      "   macro avg       0.89      0.89      0.89      5000\n",
      "weighted avg       0.89      0.89      0.89      5000\n",
      "\n"
     ]
    }
   ],
   "source": [
    "path_to_model2_pred = '../submissions/organizer__NGRAMLR(Baseline)__Test1.csv'\n",
    "\n",
    "evaluator.evaluate(path_to_gt1, path_to_model2_pred)"
   ]
  },
  {
   "cell_type": "markdown",
   "metadata": {},
   "source": [
    "\n",
    "# Submission-1 Evaluations\n",
    "\n",
    "---------------------------------------------------"
   ]
  },
  {
   "cell_type": "code",
   "execution_count": 4,
   "metadata": {},
   "outputs": [
    {
     "name": "stdout",
     "output_type": "stream",
     "text": [
      "'Birang&Kangari__Pred - samad birang.csv'\r\n",
      "'HAL__LogisticRegression__Test1 - Sheila Isazadeh.csv'\r\n",
      " \u001b[0m\u001b[01;34mmodel\u001b[0m/\r\n",
      " Mohsen_yaagoubi--2--linearSVM.csv\r\n",
      "'MultinomialNB - Erfan Arefi.csv'\r\n",
      "'parisa_delkhah_logisticRmodel__Test1 - Parisa Khosroshahi.csv'\r\n",
      "'predict_input - Parand Shams.csv'\r\n",
      "'PredictResult - Pooya Danande.csv'\r\n",
      "'sasvm__SVM(linearSVC)__Test1_ -Shadi Barzegar.csv'\r\n",
      "'SVM - Mohsen Yaaghobi-RandomAndNGRML.csv'\r\n"
     ]
    }
   ],
   "source": [
    "ls ../submissions/sub-1"
   ]
  },
  {
   "cell_type": "code",
   "execution_count": 5,
   "metadata": {
    "scrolled": false
   },
   "outputs": [
    {
     "name": "stdout",
     "output_type": "stream",
     "text": [
      "Working on: Birang&Kangari__Pred - samad birang.csv\n",
      "Accuracy: 0.8524\n",
      "\n",
      "F1 Score: 0.8543229372285828\n",
      "\n",
      "Classification Report:\n",
      "               precision    recall  f1-score   support\n",
      "\n",
      "           0       0.86      0.84      0.85      2486\n",
      "           1       0.85      0.86      0.85      2514\n",
      "\n",
      "    accuracy                           0.85      5000\n",
      "   macro avg       0.85      0.85      0.85      5000\n",
      "weighted avg       0.85      0.85      0.85      5000\n",
      "\n",
      "None\n",
      "----------------------------------------------------------------------------------\n",
      "Working on: Mohsen_yaagoubi--2--linearSVM.csv\n",
      "Accuracy: 0.8684\n",
      "\n",
      "F1 Score: 0.8701144887485196\n",
      "\n",
      "Classification Report:\n",
      "               precision    recall  f1-score   support\n",
      "\n",
      "           0       0.87      0.86      0.87      2486\n",
      "           1       0.86      0.88      0.87      2514\n",
      "\n",
      "    accuracy                           0.87      5000\n",
      "   macro avg       0.87      0.87      0.87      5000\n",
      "weighted avg       0.87      0.87      0.87      5000\n",
      "\n",
      "None\n",
      "----------------------------------------------------------------------------------\n",
      "Working on: MultinomialNB - Erfan Arefi.csv\n",
      "ERROR\n"
     ]
    },
    {
     "data": {
      "text/html": [
       "<div>\n",
       "<style scoped>\n",
       "    .dataframe tbody tr th:only-of-type {\n",
       "        vertical-align: middle;\n",
       "    }\n",
       "\n",
       "    .dataframe tbody tr th {\n",
       "        vertical-align: top;\n",
       "    }\n",
       "\n",
       "    .dataframe thead th {\n",
       "        text-align: right;\n",
       "    }\n",
       "</style>\n",
       "<table border=\"1\" class=\"dataframe\">\n",
       "  <thead>\n",
       "    <tr style=\"text-align: right;\">\n",
       "      <th></th>\n",
       "      <th>ID</th>\n",
       "      <th>text</th>\n",
       "      <th>label</th>\n",
       "    </tr>\n",
       "  </thead>\n",
       "  <tbody>\n",
       "    <tr>\n",
       "      <th>0</th>\n",
       "      <td>6c507ab837ba481cbbda0faf6e91203e</td>\n",
       "      <td>It's been about 14 years since Sharon Stone aw...</td>\n",
       "      <td>0</td>\n",
       "    </tr>\n",
       "    <tr>\n",
       "      <th>1</th>\n",
       "      <td>5d2c2b525360491a9bff9134269b2817</td>\n",
       "      <td>someone needed to make a car payment... this i...</td>\n",
       "      <td>0</td>\n",
       "    </tr>\n",
       "  </tbody>\n",
       "</table>\n",
       "</div>"
      ],
      "text/plain": [
       "                                 ID  \\\n",
       "0  6c507ab837ba481cbbda0faf6e91203e   \n",
       "1  5d2c2b525360491a9bff9134269b2817   \n",
       "\n",
       "                                                text  label  \n",
       "0  It's been about 14 years since Sharon Stone aw...      0  \n",
       "1  someone needed to make a car payment... this i...      0  "
      ]
     },
     "metadata": {},
     "output_type": "display_data"
    },
    {
     "name": "stdout",
     "output_type": "stream",
     "text": [
      "----------------------------------------------------------------------------------\n",
      "Working on: sasvm__SVM(linearSVC)__Test1_ -Shadi Barzegar.csv\n",
      "Accuracy: 0.897\n",
      "\n",
      "F1 Score: 0.898602087025005\n",
      "\n",
      "Classification Report:\n",
      "               precision    recall  f1-score   support\n",
      "\n",
      "           0       0.90      0.89      0.90      2486\n",
      "           1       0.89      0.91      0.90      2514\n",
      "\n",
      "    accuracy                           0.90      5000\n",
      "   macro avg       0.90      0.90      0.90      5000\n",
      "weighted avg       0.90      0.90      0.90      5000\n",
      "\n",
      "None\n",
      "----------------------------------------------------------------------------------\n",
      "Working on: predict_input - Parand Shams.csv\n",
      "ERROR\n"
     ]
    },
    {
     "data": {
      "text/html": [
       "<div>\n",
       "<style scoped>\n",
       "    .dataframe tbody tr th:only-of-type {\n",
       "        vertical-align: middle;\n",
       "    }\n",
       "\n",
       "    .dataframe tbody tr th {\n",
       "        vertical-align: top;\n",
       "    }\n",
       "\n",
       "    .dataframe thead th {\n",
       "        text-align: right;\n",
       "    }\n",
       "</style>\n",
       "<table border=\"1\" class=\"dataframe\">\n",
       "  <thead>\n",
       "    <tr style=\"text-align: right;\">\n",
       "      <th></th>\n",
       "      <th>ID</th>\n",
       "      <th>text</th>\n",
       "      <th>predicted</th>\n",
       "    </tr>\n",
       "  </thead>\n",
       "  <tbody>\n",
       "    <tr>\n",
       "      <th>0</th>\n",
       "      <td>6c507ab837ba481cbbda0faf6e91203e</td>\n",
       "      <td>It's been about 14 years since Sharon Stone aw...</td>\n",
       "      <td>0</td>\n",
       "    </tr>\n",
       "    <tr>\n",
       "      <th>1</th>\n",
       "      <td>5d2c2b525360491a9bff9134269b2817</td>\n",
       "      <td>someone needed to make a car payment... this i...</td>\n",
       "      <td>0</td>\n",
       "    </tr>\n",
       "  </tbody>\n",
       "</table>\n",
       "</div>"
      ],
      "text/plain": [
       "                                 ID  \\\n",
       "0  6c507ab837ba481cbbda0faf6e91203e   \n",
       "1  5d2c2b525360491a9bff9134269b2817   \n",
       "\n",
       "                                                text  predicted  \n",
       "0  It's been about 14 years since Sharon Stone aw...          0  \n",
       "1  someone needed to make a car payment... this i...          0  "
      ]
     },
     "metadata": {},
     "output_type": "display_data"
    },
    {
     "name": "stdout",
     "output_type": "stream",
     "text": [
      "----------------------------------------------------------------------------------\n",
      "Working on: HAL__LogisticRegression__Test1 - Sheila Isazadeh.csv\n",
      "Accuracy: 0.8908\n",
      "\n",
      "F1 Score: 0.8934010152284264\n",
      "\n",
      "Classification Report:\n",
      "               precision    recall  f1-score   support\n",
      "\n",
      "           0       0.91      0.87      0.89      2486\n",
      "           1       0.88      0.91      0.89      2514\n",
      "\n",
      "    accuracy                           0.89      5000\n",
      "   macro avg       0.89      0.89      0.89      5000\n",
      "weighted avg       0.89      0.89      0.89      5000\n",
      "\n",
      "None\n",
      "----------------------------------------------------------------------------------\n",
      "Working on: SVM - Mohsen Yaaghobi-RandomAndNGRML.csv\n",
      "Accuracy: 0.4912\n",
      "\n",
      "F1 Score: 0.49363057324840764\n",
      "\n",
      "Classification Report:\n",
      "               precision    recall  f1-score   support\n",
      "\n",
      "           0       0.49      0.49      0.49      2486\n",
      "           1       0.49      0.49      0.49      2514\n",
      "\n",
      "    accuracy                           0.49      5000\n",
      "   macro avg       0.49      0.49      0.49      5000\n",
      "weighted avg       0.49      0.49      0.49      5000\n",
      "\n",
      "None\n",
      "----------------------------------------------------------------------------------\n",
      "Working on: PredictResult - Pooya Danande.csv\n",
      "ERROR\n"
     ]
    },
    {
     "data": {
      "text/html": [
       "<div>\n",
       "<style scoped>\n",
       "    .dataframe tbody tr th:only-of-type {\n",
       "        vertical-align: middle;\n",
       "    }\n",
       "\n",
       "    .dataframe tbody tr th {\n",
       "        vertical-align: top;\n",
       "    }\n",
       "\n",
       "    .dataframe thead th {\n",
       "        text-align: right;\n",
       "    }\n",
       "</style>\n",
       "<table border=\"1\" class=\"dataframe\">\n",
       "  <thead>\n",
       "    <tr style=\"text-align: right;\">\n",
       "      <th></th>\n",
       "      <th>ID</th>\n",
       "      <th>label</th>\n",
       "    </tr>\n",
       "  </thead>\n",
       "  <tbody>\n",
       "    <tr>\n",
       "      <th>0</th>\n",
       "      <td>6c507ab837ba481cbbda0faf6e91203e</td>\n",
       "      <td>0</td>\n",
       "    </tr>\n",
       "    <tr>\n",
       "      <th>1</th>\n",
       "      <td>5d2c2b525360491a9bff9134269b2817</td>\n",
       "      <td>0</td>\n",
       "    </tr>\n",
       "  </tbody>\n",
       "</table>\n",
       "</div>"
      ],
      "text/plain": [
       "                                 ID  label\n",
       "0  6c507ab837ba481cbbda0faf6e91203e      0\n",
       "1  5d2c2b525360491a9bff9134269b2817      0"
      ]
     },
     "metadata": {},
     "output_type": "display_data"
    },
    {
     "name": "stdout",
     "output_type": "stream",
     "text": [
      "----------------------------------------------------------------------------------\n",
      "Working on: parisa_delkhah_logisticRmodel__Test1 - Parisa Khosroshahi.csv\n",
      "Accuracy: 0.8902\n",
      "\n",
      "F1 Score: 0.8925004895241825\n",
      "\n",
      "Classification Report:\n",
      "               precision    recall  f1-score   support\n",
      "\n",
      "           0       0.90      0.87      0.89      2486\n",
      "           1       0.88      0.91      0.89      2514\n",
      "\n",
      "    accuracy                           0.89      5000\n",
      "   macro avg       0.89      0.89      0.89      5000\n",
      "weighted avg       0.89      0.89      0.89      5000\n",
      "\n",
      "None\n",
      "----------------------------------------------------------------------------------\n"
     ]
    }
   ],
   "source": [
    "import os\n",
    "import pandas as pd\n",
    "\n",
    "sub_dir = \"../submissions/sub-1\"\n",
    "path_to_gt = '../dataset/validation/Validation-GT.csv'\n",
    "\n",
    "for csv in os.listdir(sub_dir):\n",
    "    path = os.path.join(sub_dir, csv)\n",
    "    if '.csv' not in path:\n",
    "        continue\n",
    "    print(\"Working on:\", csv)\n",
    "    try:\n",
    "        print(evaluator.evaluate(path_to_gt, path))\n",
    "    except:\n",
    "        print(\"ERROR\")\n",
    "        try:\n",
    "            df = pd.read_csv(path)\n",
    "            display(df.head(2))\n",
    "        except:\n",
    "            print(\"It IS NOT A PREDICTION::FAIL\")\n",
    "    print(\"----------------------------------------------------------------------------------\")"
   ]
  },
  {
   "cell_type": "code",
   "execution_count": 6,
   "metadata": {},
   "outputs": [],
   "source": [
    "from sklearn.metrics import accuracy_score, classification_report, f1_score\n",
    "\n",
    "def load_pred(path):\n",
    "    df = pd.read_csv(path)\n",
    "    return df['Pred'], df['ID']\n",
    "\n",
    "def load_gt(path):\n",
    "    df = pd.read_csv(path)\n",
    "    return df['label'], df['ID']\n",
    "\n",
    "def evaluate(path_to_gt, preds):\n",
    "    y_gt, y_id = load_gt(path_to_gt)\n",
    "    y_pred = preds\n",
    "    \n",
    "    print(\"Accuracy:\", accuracy_score(y_gt, y_pred), end='\\n\\n')\n",
    "    print(\"F1 Score:\", f1_score(y_gt, y_pred), end='\\n\\n')\n",
    "    print(\"Classification Report:\\n\", classification_report(y_gt, y_pred))    "
   ]
  },
  {
   "cell_type": "code",
   "execution_count": 7,
   "metadata": {},
   "outputs": [
    {
     "name": "stdout",
     "output_type": "stream",
     "text": [
      "MultinomialNB - Erfan Arefi.csv\n",
      "Accuracy: 0.8628\n",
      "\n",
      "F1 Score: 0.8614701130856219\n",
      "\n",
      "Classification Report:\n",
      "               precision    recall  f1-score   support\n",
      "\n",
      "           0       0.85      0.88      0.86      2486\n",
      "           1       0.87      0.85      0.86      2514\n",
      "\n",
      "    accuracy                           0.86      5000\n",
      "   macro avg       0.86      0.86      0.86      5000\n",
      "weighted avg       0.86      0.86      0.86      5000\n",
      "\n"
     ]
    }
   ],
   "source": [
    "##CHECKING FAILS\n",
    "print(\"MultinomialNB - Erfan Arefi.csv\")\n",
    "path = \"../submissions/sub-1/MultinomialNB - Erfan Arefi.csv\"\n",
    "\n",
    "preds = pd.read_csv(path)['label']\n",
    "evaluate(path_to_gt, preds)"
   ]
  },
  {
   "cell_type": "code",
   "execution_count": 8,
   "metadata": {},
   "outputs": [
    {
     "name": "stdout",
     "output_type": "stream",
     "text": [
      "predict_input - Parand Shams.csv\n",
      "Accuracy: 0.8558\n",
      "\n",
      "F1 Score: 0.8534254929863793\n",
      "\n",
      "Classification Report:\n",
      "               precision    recall  f1-score   support\n",
      "\n",
      "           0       0.84      0.88      0.86      2486\n",
      "           1       0.87      0.83      0.85      2514\n",
      "\n",
      "    accuracy                           0.86      5000\n",
      "   macro avg       0.86      0.86      0.86      5000\n",
      "weighted avg       0.86      0.86      0.86      5000\n",
      "\n"
     ]
    }
   ],
   "source": [
    "##CHECKING FAILS\n",
    "print(\"predict_input - Parand Shams.csv\")\n",
    "path = \"../submissions/sub-1/predict_input - Parand Shams.csv\"\n",
    "\n",
    "preds = pd.read_csv(path)['predicted']\n",
    "evaluate(path_to_gt, preds)"
   ]
  },
  {
   "cell_type": "code",
   "execution_count": null,
   "metadata": {},
   "outputs": [],
   "source": []
  },
  {
   "cell_type": "code",
   "execution_count": null,
   "metadata": {},
   "outputs": [],
   "source": []
  }
 ],
 "metadata": {
  "kernelspec": {
   "display_name": "Python 3",
   "language": "python",
   "name": "python3"
  },
  "language_info": {
   "codemirror_mode": {
    "name": "ipython",
    "version": 3
   },
   "file_extension": ".py",
   "mimetype": "text/x-python",
   "name": "python",
   "nbconvert_exporter": "python",
   "pygments_lexer": "ipython3",
   "version": "3.6.9"
  }
 },
 "nbformat": 4,
 "nbformat_minor": 2
}
