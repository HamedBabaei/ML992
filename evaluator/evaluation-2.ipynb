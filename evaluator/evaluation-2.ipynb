{
 "cells": [
  {
   "cell_type": "code",
   "execution_count": 1,
   "metadata": {},
   "outputs": [],
   "source": [
    "import evaluator\n",
    "\n",
    "path_to_gt1 = '../dataset/test/Test-GT.csv'"
   ]
  },
  {
   "cell_type": "markdown",
   "metadata": {},
   "source": [
    "# 1- Random Baseline"
   ]
  },
  {
   "cell_type": "code",
   "execution_count": 2,
   "metadata": {
    "scrolled": true
   },
   "outputs": [
    {
     "name": "stdout",
     "output_type": "stream",
     "text": [
      "Accuracy: 0.5046\n",
      "\n",
      "F1 Score: 0.5050949050949052\n",
      "\n",
      "Classification Report:\n",
      "               precision    recall  f1-score   support\n",
      "\n",
      "           0       0.50      0.50      0.50      2495\n",
      "           1       0.51      0.50      0.51      2505\n",
      "\n",
      "    accuracy                           0.50      5000\n",
      "   macro avg       0.50      0.50      0.50      5000\n",
      "weighted avg       0.50      0.50      0.50      5000\n",
      "\n"
     ]
    }
   ],
   "source": [
    "path_to_model1_pred = '../submissions/organizer__Random(Baseline)__Test2.csv'\n",
    "\n",
    "evaluator.evaluate(path_to_gt1, path_to_model1_pred)"
   ]
  },
  {
   "cell_type": "markdown",
   "metadata": {},
   "source": [
    "# 2- NGRAMLR"
   ]
  },
  {
   "cell_type": "code",
   "execution_count": 3,
   "metadata": {},
   "outputs": [
    {
     "name": "stdout",
     "output_type": "stream",
     "text": [
      "Accuracy: 0.8864\n",
      "\n",
      "F1 Score: 0.8869426751592356\n",
      "\n",
      "Classification Report:\n",
      "               precision    recall  f1-score   support\n",
      "\n",
      "           0       0.89      0.88      0.89      2495\n",
      "           1       0.88      0.89      0.89      2505\n",
      "\n",
      "    accuracy                           0.89      5000\n",
      "   macro avg       0.89      0.89      0.89      5000\n",
      "weighted avg       0.89      0.89      0.89      5000\n",
      "\n"
     ]
    }
   ],
   "source": [
    "path_to_model2_pred = '../submissions/organizer__NGRAMLR(Baseline)__Test2.csv'\n",
    "\n",
    "evaluator.evaluate(path_to_gt1, path_to_model2_pred)"
   ]
  },
  {
   "cell_type": "markdown",
   "metadata": {},
   "source": [
    "\n",
    "# Submission-1 Evaluations\n",
    "\n",
    "---------------------------------------------------"
   ]
  },
  {
   "cell_type": "code",
   "execution_count": 4,
   "metadata": {},
   "outputs": [
    {
     "name": "stdout",
     "output_type": "stream",
     "text": [
      "'HAL__Linear SVM__Test2 - Sheila Isazadeh.csv'\r\n",
      "'NGRMLR(2 phase(final))_yagoubi.csv'\r\n",
      "'NGRMLR(2 phase(final)) - محسن یعقوبی.csv'\r\n",
      "'parisa_delkhah_logisticRmodel__Test1  - Parisa Khosroshahi.csv'\r\n",
      " predict2-Farsdhad-Kordestani.csv\r\n",
      "'PredictResult2 - Pooya Danande.csv'\r\n",
      "'pridect 2-GRU-zahra garshasbi.csv'\r\n",
      "'sasvm__SVM(linearSVC)__Test2 - Shadi Barzegar.csv'\r\n",
      "'Sub2__Birang_Kangari__Pred - samad birang.csv'\r\n",
      "'SVC-y_test - Erfan Arefi.csv'\r\n",
      "'SVM - Parand Shams.csv'\r\n"
     ]
    }
   ],
   "source": [
    "ls ../submissions/sub-2"
   ]
  },
  {
   "cell_type": "code",
   "execution_count": 5,
   "metadata": {
    "scrolled": false
   },
   "outputs": [
    {
     "name": "stdout",
     "output_type": "stream",
     "text": [
      "Working on: PredictResult2 - Pooya Danande.csv\n",
      "ERROR\n"
     ]
    },
    {
     "data": {
      "text/html": [
       "<div>\n",
       "<style scoped>\n",
       "    .dataframe tbody tr th:only-of-type {\n",
       "        vertical-align: middle;\n",
       "    }\n",
       "\n",
       "    .dataframe tbody tr th {\n",
       "        vertical-align: top;\n",
       "    }\n",
       "\n",
       "    .dataframe thead th {\n",
       "        text-align: right;\n",
       "    }\n",
       "</style>\n",
       "<table border=\"1\" class=\"dataframe\">\n",
       "  <thead>\n",
       "    <tr style=\"text-align: right;\">\n",
       "      <th></th>\n",
       "      <th>ID</th>\n",
       "      <th>label</th>\n",
       "    </tr>\n",
       "  </thead>\n",
       "  <tbody>\n",
       "    <tr>\n",
       "      <th>0</th>\n",
       "      <td>e52ef7b35e4a4dd0a100a6f390fda273</td>\n",
       "      <td>0</td>\n",
       "    </tr>\n",
       "    <tr>\n",
       "      <th>1</th>\n",
       "      <td>0362b11f85ae46e198a21e2369c9688b</td>\n",
       "      <td>0</td>\n",
       "    </tr>\n",
       "  </tbody>\n",
       "</table>\n",
       "</div>"
      ],
      "text/plain": [
       "                                 ID  label\n",
       "0  e52ef7b35e4a4dd0a100a6f390fda273      0\n",
       "1  0362b11f85ae46e198a21e2369c9688b      0"
      ]
     },
     "metadata": {},
     "output_type": "display_data"
    },
    {
     "name": "stdout",
     "output_type": "stream",
     "text": [
      "----------------------------------------------------------------------------------\n",
      "Working on: predict2-Farsdhad-Kordestani.csv\n",
      "ERROR\n"
     ]
    },
    {
     "data": {
      "text/html": [
       "<div>\n",
       "<style scoped>\n",
       "    .dataframe tbody tr th:only-of-type {\n",
       "        vertical-align: middle;\n",
       "    }\n",
       "\n",
       "    .dataframe tbody tr th {\n",
       "        vertical-align: top;\n",
       "    }\n",
       "\n",
       "    .dataframe thead th {\n",
       "        text-align: right;\n",
       "    }\n",
       "</style>\n",
       "<table border=\"1\" class=\"dataframe\">\n",
       "  <thead>\n",
       "    <tr style=\"text-align: right;\">\n",
       "      <th></th>\n",
       "      <th>ID</th>\n",
       "      <th>label</th>\n",
       "    </tr>\n",
       "  </thead>\n",
       "  <tbody>\n",
       "    <tr>\n",
       "      <th>0</th>\n",
       "      <td>e52ef7b35e4a4dd0a100a6f390fda273</td>\n",
       "      <td>1</td>\n",
       "    </tr>\n",
       "    <tr>\n",
       "      <th>1</th>\n",
       "      <td>0362b11f85ae46e198a21e2369c9688b</td>\n",
       "      <td>0</td>\n",
       "    </tr>\n",
       "  </tbody>\n",
       "</table>\n",
       "</div>"
      ],
      "text/plain": [
       "                                 ID  label\n",
       "0  e52ef7b35e4a4dd0a100a6f390fda273      1\n",
       "1  0362b11f85ae46e198a21e2369c9688b      0"
      ]
     },
     "metadata": {},
     "output_type": "display_data"
    },
    {
     "name": "stdout",
     "output_type": "stream",
     "text": [
      "----------------------------------------------------------------------------------\n",
      "Working on: SVM - Parand Shams.csv\n",
      "ERROR\n"
     ]
    },
    {
     "data": {
      "text/html": [
       "<div>\n",
       "<style scoped>\n",
       "    .dataframe tbody tr th:only-of-type {\n",
       "        vertical-align: middle;\n",
       "    }\n",
       "\n",
       "    .dataframe tbody tr th {\n",
       "        vertical-align: top;\n",
       "    }\n",
       "\n",
       "    .dataframe thead th {\n",
       "        text-align: right;\n",
       "    }\n",
       "</style>\n",
       "<table border=\"1\" class=\"dataframe\">\n",
       "  <thead>\n",
       "    <tr style=\"text-align: right;\">\n",
       "      <th></th>\n",
       "      <th>ID</th>\n",
       "      <th>text</th>\n",
       "      <th>predicted</th>\n",
       "    </tr>\n",
       "  </thead>\n",
       "  <tbody>\n",
       "    <tr>\n",
       "      <th>0</th>\n",
       "      <td>e52ef7b35e4a4dd0a100a6f390fda273</td>\n",
       "      <td>I always wrote this series off as being a comp...</td>\n",
       "      <td>0</td>\n",
       "    </tr>\n",
       "    <tr>\n",
       "      <th>1</th>\n",
       "      <td>0362b11f85ae46e198a21e2369c9688b</td>\n",
       "      <td>1st watched 12/7/2002 - 3 out of 10(Dir-Steve ...</td>\n",
       "      <td>0</td>\n",
       "    </tr>\n",
       "  </tbody>\n",
       "</table>\n",
       "</div>"
      ],
      "text/plain": [
       "                                 ID  \\\n",
       "0  e52ef7b35e4a4dd0a100a6f390fda273   \n",
       "1  0362b11f85ae46e198a21e2369c9688b   \n",
       "\n",
       "                                                text  predicted  \n",
       "0  I always wrote this series off as being a comp...          0  \n",
       "1  1st watched 12/7/2002 - 3 out of 10(Dir-Steve ...          0  "
      ]
     },
     "metadata": {},
     "output_type": "display_data"
    },
    {
     "name": "stdout",
     "output_type": "stream",
     "text": [
      "----------------------------------------------------------------------------------\n",
      "Working on: pridect 2-GRU-zahra garshasbi.csv\n",
      "ERROR\n"
     ]
    },
    {
     "data": {
      "text/html": [
       "<div>\n",
       "<style scoped>\n",
       "    .dataframe tbody tr th:only-of-type {\n",
       "        vertical-align: middle;\n",
       "    }\n",
       "\n",
       "    .dataframe tbody tr th {\n",
       "        vertical-align: top;\n",
       "    }\n",
       "\n",
       "    .dataframe thead th {\n",
       "        text-align: right;\n",
       "    }\n",
       "</style>\n",
       "<table border=\"1\" class=\"dataframe\">\n",
       "  <thead>\n",
       "    <tr style=\"text-align: right;\">\n",
       "      <th></th>\n",
       "      <th>ID</th>\n",
       "      <th>label</th>\n",
       "    </tr>\n",
       "  </thead>\n",
       "  <tbody>\n",
       "    <tr>\n",
       "      <th>0</th>\n",
       "      <td>e52ef7b35e4a4dd0a100a6f390fda273</td>\n",
       "      <td>1</td>\n",
       "    </tr>\n",
       "    <tr>\n",
       "      <th>1</th>\n",
       "      <td>0362b11f85ae46e198a21e2369c9688b</td>\n",
       "      <td>0</td>\n",
       "    </tr>\n",
       "  </tbody>\n",
       "</table>\n",
       "</div>"
      ],
      "text/plain": [
       "                                 ID  label\n",
       "0  e52ef7b35e4a4dd0a100a6f390fda273      1\n",
       "1  0362b11f85ae46e198a21e2369c9688b      0"
      ]
     },
     "metadata": {},
     "output_type": "display_data"
    },
    {
     "name": "stdout",
     "output_type": "stream",
     "text": [
      "----------------------------------------------------------------------------------\n",
      "Working on: HAL__Linear SVM__Test2 - Sheila Isazadeh.csv\n",
      "Accuracy: 0.9026\n",
      "\n",
      "F1 Score: 0.9036597428288823\n",
      "\n",
      "Classification Report:\n",
      "               precision    recall  f1-score   support\n",
      "\n",
      "           0       0.91      0.89      0.90      2495\n",
      "           1       0.90      0.91      0.90      2505\n",
      "\n",
      "    accuracy                           0.90      5000\n",
      "   macro avg       0.90      0.90      0.90      5000\n",
      "weighted avg       0.90      0.90      0.90      5000\n",
      "\n",
      "None\n",
      "----------------------------------------------------------------------------------\n",
      "Working on: Sub2__Birang_Kangari__Pred - samad birang.csv\n",
      "Accuracy: 0.4938\n",
      "\n",
      "F1 Score: 0.4955152481562687\n",
      "\n",
      "Classification Report:\n",
      "               precision    recall  f1-score   support\n",
      "\n",
      "           0       0.49      0.49      0.49      2495\n",
      "           1       0.49      0.50      0.50      2505\n",
      "\n",
      "    accuracy                           0.49      5000\n",
      "   macro avg       0.49      0.49      0.49      5000\n",
      "weighted avg       0.49      0.49      0.49      5000\n",
      "\n",
      "None\n",
      "----------------------------------------------------------------------------------\n",
      "Working on: parisa_delkhah_logisticRmodel__Test1  - Parisa Khosroshahi.csv\n",
      "Accuracy: 0.49\n",
      "\n",
      "F1 Score: 0.49980384464495875\n",
      "\n",
      "Classification Report:\n",
      "               precision    recall  f1-score   support\n",
      "\n",
      "           0       0.49      0.47      0.48      2495\n",
      "           1       0.49      0.51      0.50      2505\n",
      "\n",
      "    accuracy                           0.49      5000\n",
      "   macro avg       0.49      0.49      0.49      5000\n",
      "weighted avg       0.49      0.49      0.49      5000\n",
      "\n",
      "None\n",
      "----------------------------------------------------------------------------------\n",
      "Working on: NGRMLR(2 phase(final))_yagoubi.csv\n",
      "Accuracy: 0.888\n",
      "\n",
      "F1 Score: 0.8889770023790642\n",
      "\n",
      "Classification Report:\n",
      "               precision    recall  f1-score   support\n",
      "\n",
      "           0       0.89      0.88      0.89      2495\n",
      "           1       0.88      0.90      0.89      2505\n",
      "\n",
      "    accuracy                           0.89      5000\n",
      "   macro avg       0.89      0.89      0.89      5000\n",
      "weighted avg       0.89      0.89      0.89      5000\n",
      "\n",
      "None\n",
      "----------------------------------------------------------------------------------\n",
      "Working on: NGRMLR(2 phase(final)) - محسن یعقوبی.csv\n",
      "Accuracy: 0.888\n",
      "\n",
      "F1 Score: 0.8889770023790642\n",
      "\n",
      "Classification Report:\n",
      "               precision    recall  f1-score   support\n",
      "\n",
      "           0       0.89      0.88      0.89      2495\n",
      "           1       0.88      0.90      0.89      2505\n",
      "\n",
      "    accuracy                           0.89      5000\n",
      "   macro avg       0.89      0.89      0.89      5000\n",
      "weighted avg       0.89      0.89      0.89      5000\n",
      "\n",
      "None\n",
      "----------------------------------------------------------------------------------\n",
      "Working on: SVC-y_test - Erfan Arefi.csv\n",
      "ERROR\n"
     ]
    },
    {
     "data": {
      "text/html": [
       "<div>\n",
       "<style scoped>\n",
       "    .dataframe tbody tr th:only-of-type {\n",
       "        vertical-align: middle;\n",
       "    }\n",
       "\n",
       "    .dataframe tbody tr th {\n",
       "        vertical-align: top;\n",
       "    }\n",
       "\n",
       "    .dataframe thead th {\n",
       "        text-align: right;\n",
       "    }\n",
       "</style>\n",
       "<table border=\"1\" class=\"dataframe\">\n",
       "  <thead>\n",
       "    <tr style=\"text-align: right;\">\n",
       "      <th></th>\n",
       "      <th>id</th>\n",
       "      <th>label</th>\n",
       "    </tr>\n",
       "  </thead>\n",
       "  <tbody>\n",
       "    <tr>\n",
       "      <th>0</th>\n",
       "      <td>e52ef7b35e4a4dd0a100a6f390fda273</td>\n",
       "      <td>1</td>\n",
       "    </tr>\n",
       "    <tr>\n",
       "      <th>1</th>\n",
       "      <td>0362b11f85ae46e198a21e2369c9688b</td>\n",
       "      <td>0</td>\n",
       "    </tr>\n",
       "  </tbody>\n",
       "</table>\n",
       "</div>"
      ],
      "text/plain": [
       "                                 id  label\n",
       "0  e52ef7b35e4a4dd0a100a6f390fda273      1\n",
       "1  0362b11f85ae46e198a21e2369c9688b      0"
      ]
     },
     "metadata": {},
     "output_type": "display_data"
    },
    {
     "name": "stdout",
     "output_type": "stream",
     "text": [
      "----------------------------------------------------------------------------------\n",
      "Working on: sasvm__SVM(linearSVC)__Test2 - Shadi Barzegar.csv\n",
      "Accuracy: 0.8996\n",
      "\n",
      "F1 Score: 0.9007512850929222\n",
      "\n",
      "Classification Report:\n",
      "               precision    recall  f1-score   support\n",
      "\n",
      "           0       0.91      0.89      0.90      2495\n",
      "           1       0.89      0.91      0.90      2505\n",
      "\n",
      "    accuracy                           0.90      5000\n",
      "   macro avg       0.90      0.90      0.90      5000\n",
      "weighted avg       0.90      0.90      0.90      5000\n",
      "\n",
      "None\n",
      "----------------------------------------------------------------------------------\n"
     ]
    }
   ],
   "source": [
    "import os\n",
    "import pandas as pd\n",
    "\n",
    "sub_dir = \"../submissions/sub-2\"\n",
    "path_to_gt = '../dataset/test/Test-GT.csv'\n",
    "\n",
    "for csv in os.listdir(sub_dir):\n",
    "    path = os.path.join(sub_dir, csv)\n",
    "    if '.csv' not in path:\n",
    "        continue\n",
    "    print(\"Working on:\", csv)\n",
    "    try:\n",
    "        print(evaluator.evaluate(path_to_gt, path))\n",
    "    except:\n",
    "        print(\"ERROR\")\n",
    "        try:\n",
    "            df = pd.read_csv(path)\n",
    "            display(df.head(2))\n",
    "        except:\n",
    "            print(\"It IS NOT A PREDICTION::FAIL\")\n",
    "    print(\"----------------------------------------------------------------------------------\")"
   ]
  },
  {
   "cell_type": "code",
   "execution_count": 6,
   "metadata": {},
   "outputs": [],
   "source": [
    "from sklearn.metrics import accuracy_score, classification_report, f1_score\n",
    "\n",
    "def load_pred(path):\n",
    "    df = pd.read_csv(path)\n",
    "    return df['Pred'], df['ID']\n",
    "\n",
    "def load_gt(path):\n",
    "    df = pd.read_csv(path)\n",
    "    return df['label'], df['ID']\n",
    "\n",
    "def evaluate(path_to_gt, preds):\n",
    "    y_gt, y_id = load_gt(path_to_gt)\n",
    "    y_pred = preds\n",
    "    \n",
    "    print(\"Accuracy:\", accuracy_score(y_gt, y_pred), end='\\n\\n')\n",
    "    print(\"F1 Score:\", f1_score(y_gt, y_pred), end='\\n\\n')\n",
    "    print(\"Classification Report:\\n\", classification_report(y_gt, y_pred))    "
   ]
  },
  {
   "cell_type": "code",
   "execution_count": null,
   "metadata": {},
   "outputs": [],
   "source": []
  },
  {
   "cell_type": "code",
   "execution_count": 7,
   "metadata": {},
   "outputs": [
    {
     "name": "stdout",
     "output_type": "stream",
     "text": [
      "SVC-y_test - Erfan Arefi.csv\n",
      "Accuracy: 0.9058\n",
      "\n",
      "F1 Score: 0.9068985965605851\n",
      "\n",
      "Classification Report:\n",
      "               precision    recall  f1-score   support\n",
      "\n",
      "           0       0.91      0.90      0.90      2495\n",
      "           1       0.90      0.92      0.91      2505\n",
      "\n",
      "    accuracy                           0.91      5000\n",
      "   macro avg       0.91      0.91      0.91      5000\n",
      "weighted avg       0.91      0.91      0.91      5000\n",
      "\n"
     ]
    }
   ],
   "source": [
    "##CHECKING FAILS\n",
    "print(\"SVC-y_test - Erfan Arefi.csv\")\n",
    "path = \"../submissions/sub-2/SVC-y_test - Erfan Arefi.csv\"\n",
    "\n",
    "preds = pd.read_csv(path)['label']\n",
    "evaluate(path_to_gt, preds)"
   ]
  },
  {
   "cell_type": "code",
   "execution_count": 8,
   "metadata": {},
   "outputs": [
    {
     "name": "stdout",
     "output_type": "stream",
     "text": [
      "SVM - Parand Shams.csv\n",
      "Accuracy: 0.9018\n",
      "\n",
      "F1 Score: 0.9029068617757564\n",
      "\n",
      "Classification Report:\n",
      "               precision    recall  f1-score   support\n",
      "\n",
      "           0       0.91      0.89      0.90      2495\n",
      "           1       0.89      0.91      0.90      2505\n",
      "\n",
      "    accuracy                           0.90      5000\n",
      "   macro avg       0.90      0.90      0.90      5000\n",
      "weighted avg       0.90      0.90      0.90      5000\n",
      "\n"
     ]
    }
   ],
   "source": [
    "##CHECKING FAILS\n",
    "print(\"SVM - Parand Shams.csv\")\n",
    "path = \"../submissions/sub-2/SVM - Parand Shams.csv\"\n",
    "\n",
    "preds = pd.read_csv(path)['predicted']\n",
    "evaluate(path_to_gt, preds)"
   ]
  },
  {
   "cell_type": "code",
   "execution_count": 9,
   "metadata": {},
   "outputs": [],
   "source": [
    "pk = '../submissions/sub-2/parisa_delkhah_logisticRmodel__Test1  - Parisa Khosroshahi.csv'\n",
    "sb = '../submissions/sub-2/sasvm__SVM(linearSVC)__Test2 - Shadi Barzegar.csv'"
   ]
  },
  {
   "cell_type": "code",
   "execution_count": 10,
   "metadata": {},
   "outputs": [
    {
     "data": {
      "text/html": [
       "<div>\n",
       "<style scoped>\n",
       "    .dataframe tbody tr th:only-of-type {\n",
       "        vertical-align: middle;\n",
       "    }\n",
       "\n",
       "    .dataframe tbody tr th {\n",
       "        vertical-align: top;\n",
       "    }\n",
       "\n",
       "    .dataframe thead th {\n",
       "        text-align: right;\n",
       "    }\n",
       "</style>\n",
       "<table border=\"1\" class=\"dataframe\">\n",
       "  <thead>\n",
       "    <tr style=\"text-align: right;\">\n",
       "      <th></th>\n",
       "      <th>Pred</th>\n",
       "      <th>ID</th>\n",
       "    </tr>\n",
       "  </thead>\n",
       "  <tbody>\n",
       "    <tr>\n",
       "      <th>0</th>\n",
       "      <td>0</td>\n",
       "      <td>6c507ab837ba481cbbda0faf6e91203e</td>\n",
       "    </tr>\n",
       "    <tr>\n",
       "      <th>1</th>\n",
       "      <td>0</td>\n",
       "      <td>5d2c2b525360491a9bff9134269b2817</td>\n",
       "    </tr>\n",
       "    <tr>\n",
       "      <th>2</th>\n",
       "      <td>0</td>\n",
       "      <td>c145996ba6fd42b88fcfb5427d0d1984</td>\n",
       "    </tr>\n",
       "    <tr>\n",
       "      <th>3</th>\n",
       "      <td>0</td>\n",
       "      <td>185adef02bc24678b8521c6bd41dd595</td>\n",
       "    </tr>\n",
       "    <tr>\n",
       "      <th>4</th>\n",
       "      <td>1</td>\n",
       "      <td>5ef7a95182874c3db33c54e82109e107</td>\n",
       "    </tr>\n",
       "  </tbody>\n",
       "</table>\n",
       "</div>"
      ],
      "text/plain": [
       "   Pred                                ID\n",
       "0     0  6c507ab837ba481cbbda0faf6e91203e\n",
       "1     0  5d2c2b525360491a9bff9134269b2817\n",
       "2     0  c145996ba6fd42b88fcfb5427d0d1984\n",
       "3     0  185adef02bc24678b8521c6bd41dd595\n",
       "4     1  5ef7a95182874c3db33c54e82109e107"
      ]
     },
     "execution_count": 10,
     "metadata": {},
     "output_type": "execute_result"
    }
   ],
   "source": [
    "pk_df = pd.read_csv(pk)\n",
    "pk_df.head()"
   ]
  },
  {
   "cell_type": "code",
   "execution_count": 11,
   "metadata": {},
   "outputs": [
    {
     "data": {
      "text/html": [
       "<div>\n",
       "<style scoped>\n",
       "    .dataframe tbody tr th:only-of-type {\n",
       "        vertical-align: middle;\n",
       "    }\n",
       "\n",
       "    .dataframe tbody tr th {\n",
       "        vertical-align: top;\n",
       "    }\n",
       "\n",
       "    .dataframe thead th {\n",
       "        text-align: right;\n",
       "    }\n",
       "</style>\n",
       "<table border=\"1\" class=\"dataframe\">\n",
       "  <thead>\n",
       "    <tr style=\"text-align: right;\">\n",
       "      <th></th>\n",
       "      <th>Pred</th>\n",
       "      <th>ID</th>\n",
       "    </tr>\n",
       "  </thead>\n",
       "  <tbody>\n",
       "    <tr>\n",
       "      <th>0</th>\n",
       "      <td>0</td>\n",
       "      <td>e52ef7b35e4a4dd0a100a6f390fda273</td>\n",
       "    </tr>\n",
       "    <tr>\n",
       "      <th>1</th>\n",
       "      <td>0</td>\n",
       "      <td>0362b11f85ae46e198a21e2369c9688b</td>\n",
       "    </tr>\n",
       "    <tr>\n",
       "      <th>2</th>\n",
       "      <td>0</td>\n",
       "      <td>e99c9e75f993486590065d62cc03a351</td>\n",
       "    </tr>\n",
       "    <tr>\n",
       "      <th>3</th>\n",
       "      <td>1</td>\n",
       "      <td>175e727e358b4045b866689d91212022</td>\n",
       "    </tr>\n",
       "    <tr>\n",
       "      <th>4</th>\n",
       "      <td>0</td>\n",
       "      <td>f6a33ac2ef824ce98f2b3e5cc31e6621</td>\n",
       "    </tr>\n",
       "  </tbody>\n",
       "</table>\n",
       "</div>"
      ],
      "text/plain": [
       "   Pred                                ID\n",
       "0     0  e52ef7b35e4a4dd0a100a6f390fda273\n",
       "1     0  0362b11f85ae46e198a21e2369c9688b\n",
       "2     0  e99c9e75f993486590065d62cc03a351\n",
       "3     1  175e727e358b4045b866689d91212022\n",
       "4     0  f6a33ac2ef824ce98f2b3e5cc31e6621"
      ]
     },
     "execution_count": 11,
     "metadata": {},
     "output_type": "execute_result"
    }
   ],
   "source": [
    "sb_df = pd.read_csv(sb)\n",
    "sb_df.head()"
   ]
  },
  {
   "cell_type": "code",
   "execution_count": 12,
   "metadata": {},
   "outputs": [
    {
     "name": "stdout",
     "output_type": "stream",
     "text": [
      "PredictResult2 - Pooya Danande.csv\n",
      "Accuracy: 0.9148\n",
      "\n",
      "F1 Score: 0.915576694411415\n",
      "\n",
      "Classification Report:\n",
      "               precision    recall  f1-score   support\n",
      "\n",
      "           0       0.92      0.91      0.91      2495\n",
      "           1       0.91      0.92      0.92      2505\n",
      "\n",
      "    accuracy                           0.91      5000\n",
      "   macro avg       0.91      0.91      0.91      5000\n",
      "weighted avg       0.91      0.91      0.91      5000\n",
      "\n"
     ]
    }
   ],
   "source": [
    "\n",
    "\n",
    "##CHECKING FAILS\n",
    "print(\"PredictResult2 - Pooya Danande.csv\")\n",
    "path = '../submissions/sub-2/PredictResult2 - Pooya Danande.csv'\n",
    "\n",
    "preds = pd.read_csv(path)['label']\n",
    "evaluate(path_to_gt, preds)"
   ]
  },
  {
   "cell_type": "code",
   "execution_count": 13,
   "metadata": {},
   "outputs": [
    {
     "name": "stdout",
     "output_type": "stream",
     "text": [
      "pridect 2-GRU-zahra garshasbi.csv\n",
      "Accuracy: 0.5344\n",
      "\n",
      "F1 Score: 0.504258943781942\n",
      "\n",
      "Classification Report:\n",
      "               precision    recall  f1-score   support\n",
      "\n",
      "           0       0.53      0.60      0.56      2495\n",
      "           1       0.54      0.47      0.50      2505\n",
      "\n",
      "    accuracy                           0.53      5000\n",
      "   macro avg       0.54      0.53      0.53      5000\n",
      "weighted avg       0.54      0.53      0.53      5000\n",
      "\n"
     ]
    }
   ],
   "source": [
    "##CHECKING FAILS\n",
    "print(\"pridect 2-GRU-zahra garshasbi.csv\")\n",
    "path = \"../submissions/sub-2/pridect 2-GRU-zahra garshasbi.csv\"\n",
    "\n",
    "preds = pd.read_csv(path)['label']\n",
    "evaluate(path_to_gt, preds)"
   ]
  },
  {
   "cell_type": "code",
   "execution_count": 15,
   "metadata": {},
   "outputs": [
    {
     "name": "stdout",
     "output_type": "stream",
     "text": [
      "predict 1-Farsdhad-Kordestani.csv\n",
      "Accuracy: 0.5344\n",
      "\n",
      "F1 Score: 0.504258943781942\n",
      "\n",
      "Classification Report:\n",
      "               precision    recall  f1-score   support\n",
      "\n",
      "           0       0.53      0.60      0.56      2495\n",
      "           1       0.54      0.47      0.50      2505\n",
      "\n",
      "    accuracy                           0.53      5000\n",
      "   macro avg       0.54      0.53      0.53      5000\n",
      "weighted avg       0.54      0.53      0.53      5000\n",
      "\n"
     ]
    }
   ],
   "source": [
    "##CHECKING FAILS\n",
    "print(\"predict 1-Farsdhad-Kordestani.csv\")\n",
    "path = \"../submissions/sub-2/predict2-Farsdhad-Kordestani.csv\"\n",
    "\n",
    "preds = pd.read_csv(path)['label']\n",
    "evaluate(path_to_gt, preds)"
   ]
  },
  {
   "cell_type": "code",
   "execution_count": null,
   "metadata": {},
   "outputs": [],
   "source": []
  }
 ],
 "metadata": {
  "kernelspec": {
   "display_name": "Python 3",
   "language": "python",
   "name": "python3"
  },
  "language_info": {
   "codemirror_mode": {
    "name": "ipython",
    "version": 3
   },
   "file_extension": ".py",
   "mimetype": "text/x-python",
   "name": "python",
   "nbconvert_exporter": "python",
   "pygments_lexer": "ipython3",
   "version": "3.6.9"
  }
 },
 "nbformat": 4,
 "nbformat_minor": 2
}
