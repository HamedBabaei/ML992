{
 "cells": [
  {
   "cell_type": "code",
   "execution_count": 19,
   "metadata": {},
   "outputs": [],
   "source": [
    "import evaluator\n",
    "\n",
    "path_to_gt1 = '../dataset/test/Test-GT.csv'"
   ]
  },
  {
   "cell_type": "markdown",
   "metadata": {},
   "source": [
    "# 1- Random Baseline"
   ]
  },
  {
   "cell_type": "code",
   "execution_count": 20,
   "metadata": {
    "scrolled": true
   },
   "outputs": [
    {
     "name": "stdout",
     "output_type": "stream",
     "text": [
      "Accuracy: 0.5046\n",
      "\n",
      "F1 Score: 0.5050949050949052\n",
      "\n",
      "Classification Report:\n",
      "               precision    recall  f1-score   support\n",
      "\n",
      "           0       0.50      0.50      0.50      2495\n",
      "           1       0.51      0.50      0.51      2505\n",
      "\n",
      "    accuracy                           0.50      5000\n",
      "   macro avg       0.50      0.50      0.50      5000\n",
      "weighted avg       0.50      0.50      0.50      5000\n",
      "\n"
     ]
    }
   ],
   "source": [
    "path_to_model1_pred = '../submissions/organizer__Random(Baseline)__Test2.csv'\n",
    "\n",
    "evaluator.evaluate(path_to_gt1, path_to_model1_pred)"
   ]
  },
  {
   "cell_type": "markdown",
   "metadata": {},
   "source": [
    "# 2- NGRAMLR"
   ]
  },
  {
   "cell_type": "code",
   "execution_count": 21,
   "metadata": {},
   "outputs": [
    {
     "name": "stdout",
     "output_type": "stream",
     "text": [
      "Accuracy: 0.8864\n",
      "\n",
      "F1 Score: 0.8869426751592356\n",
      "\n",
      "Classification Report:\n",
      "               precision    recall  f1-score   support\n",
      "\n",
      "           0       0.89      0.88      0.89      2495\n",
      "           1       0.88      0.89      0.89      2505\n",
      "\n",
      "    accuracy                           0.89      5000\n",
      "   macro avg       0.89      0.89      0.89      5000\n",
      "weighted avg       0.89      0.89      0.89      5000\n",
      "\n"
     ]
    }
   ],
   "source": [
    "path_to_model2_pred = '../submissions/organizer__NGRAMLR(Baseline)__Test2.csv'\n",
    "\n",
    "evaluator.evaluate(path_to_gt1, path_to_model2_pred)"
   ]
  },
  {
   "cell_type": "markdown",
   "metadata": {},
   "source": [
    "\n",
    "# Submission-1 Evaluations\n",
    "\n",
    "---------------------------------------------------"
   ]
  },
  {
   "cell_type": "code",
   "execution_count": 29,
   "metadata": {},
   "outputs": [
    {
     "name": "stdout",
     "output_type": "stream",
     "text": [
      "'data_CSV - Zahra Garshasbi.csv'\r\n",
      "'HAL__Linear SVM__Test2 - Sheila Isazadeh.csv'\r\n",
      "'parisa_delkhah_logisticRmodel__Test1  - Parisa Khosroshahi.csv'\r\n",
      "'sasvm__SVM(linearSVC)__Test2 - Shadi Barzegar.csv'\r\n",
      "'SVC-y_test - Erfan Arefi.csv'\r\n",
      "'SVM - Parand Shams.csv'\r\n"
     ]
    }
   ],
   "source": [
    "ls ../submissions/sub-2"
   ]
  },
  {
   "cell_type": "code",
   "execution_count": 30,
   "metadata": {
    "scrolled": false
   },
   "outputs": [
    {
     "name": "stdout",
     "output_type": "stream",
     "text": [
      "Working on: SVM - Parand Shams.csv\n",
      "ERROR\n"
     ]
    },
    {
     "data": {
      "text/html": [
       "<div>\n",
       "<style scoped>\n",
       "    .dataframe tbody tr th:only-of-type {\n",
       "        vertical-align: middle;\n",
       "    }\n",
       "\n",
       "    .dataframe tbody tr th {\n",
       "        vertical-align: top;\n",
       "    }\n",
       "\n",
       "    .dataframe thead th {\n",
       "        text-align: right;\n",
       "    }\n",
       "</style>\n",
       "<table border=\"1\" class=\"dataframe\">\n",
       "  <thead>\n",
       "    <tr style=\"text-align: right;\">\n",
       "      <th></th>\n",
       "      <th>ID</th>\n",
       "      <th>text</th>\n",
       "      <th>predicted</th>\n",
       "    </tr>\n",
       "  </thead>\n",
       "  <tbody>\n",
       "    <tr>\n",
       "      <th>0</th>\n",
       "      <td>e52ef7b35e4a4dd0a100a6f390fda273</td>\n",
       "      <td>I always wrote this series off as being a comp...</td>\n",
       "      <td>0</td>\n",
       "    </tr>\n",
       "    <tr>\n",
       "      <th>1</th>\n",
       "      <td>0362b11f85ae46e198a21e2369c9688b</td>\n",
       "      <td>1st watched 12/7/2002 - 3 out of 10(Dir-Steve ...</td>\n",
       "      <td>0</td>\n",
       "    </tr>\n",
       "  </tbody>\n",
       "</table>\n",
       "</div>"
      ],
      "text/plain": [
       "                                 ID  \\\n",
       "0  e52ef7b35e4a4dd0a100a6f390fda273   \n",
       "1  0362b11f85ae46e198a21e2369c9688b   \n",
       "\n",
       "                                                text  predicted  \n",
       "0  I always wrote this series off as being a comp...          0  \n",
       "1  1st watched 12/7/2002 - 3 out of 10(Dir-Steve ...          0  "
      ]
     },
     "metadata": {},
     "output_type": "display_data"
    },
    {
     "name": "stdout",
     "output_type": "stream",
     "text": [
      "----------------------------------------------------------------------------------\n",
      "Working on: HAL__Linear SVM__Test2 - Sheila Isazadeh.csv\n",
      "Accuracy: 0.9026\n",
      "\n",
      "F1 Score: 0.9036597428288823\n",
      "\n",
      "Classification Report:\n",
      "               precision    recall  f1-score   support\n",
      "\n",
      "           0       0.91      0.89      0.90      2495\n",
      "           1       0.90      0.91      0.90      2505\n",
      "\n",
      "    accuracy                           0.90      5000\n",
      "   macro avg       0.90      0.90      0.90      5000\n",
      "weighted avg       0.90      0.90      0.90      5000\n",
      "\n",
      "None\n",
      "----------------------------------------------------------------------------------\n",
      "Working on: parisa_delkhah_logisticRmodel__Test1  - Parisa Khosroshahi.csv\n",
      "Accuracy: 0.49\n",
      "\n",
      "F1 Score: 0.49980384464495875\n",
      "\n",
      "Classification Report:\n",
      "               precision    recall  f1-score   support\n",
      "\n",
      "           0       0.49      0.47      0.48      2495\n",
      "           1       0.49      0.51      0.50      2505\n",
      "\n",
      "    accuracy                           0.49      5000\n",
      "   macro avg       0.49      0.49      0.49      5000\n",
      "weighted avg       0.49      0.49      0.49      5000\n",
      "\n",
      "None\n",
      "----------------------------------------------------------------------------------\n",
      "Working on: data_CSV - Zahra Garshasbi.csv\n",
      "ERROR\n"
     ]
    },
    {
     "data": {
      "text/html": [
       "<div>\n",
       "<style scoped>\n",
       "    .dataframe tbody tr th:only-of-type {\n",
       "        vertical-align: middle;\n",
       "    }\n",
       "\n",
       "    .dataframe tbody tr th {\n",
       "        vertical-align: top;\n",
       "    }\n",
       "\n",
       "    .dataframe thead th {\n",
       "        text-align: right;\n",
       "    }\n",
       "</style>\n",
       "<table border=\"1\" class=\"dataframe\">\n",
       "  <thead>\n",
       "    <tr style=\"text-align: right;\">\n",
       "      <th></th>\n",
       "      <th>Epoch 1/30168/168 - 297s - loss: 0.0808 - accuracy: 0.9731 - val_loss: 0.4863 - val_accuracy: 0.8646Epoch 2/30168/168 - 294s - loss: 0.0731 - accuracy: 0.9755 - val_loss: 0.5151 - val_accuracy: 0.8662Epoch 3/30168/168 - 295s - loss: 0.0659 - accuracy: 0.9784 - val_loss: 0.5238 - val_accuracy: 0.8614Epoch 4/30168/168 - 295s - loss: 0.0628 - accuracy: 0.9797 - val_loss: 0.5503 - val_accuracy: 0.8655Epoch 5/30168/168 - 295s - loss: 0.0596 - accuracy: 0.9805 - val_loss: 0.5876 - val_accuracy: 0.8625Epoch 6/30168/168 - 295s - loss: 0.0574 - accuracy: 0.9811 - val_loss: 0.6062 - val_accuracy: 0.8638Epoch 7/30168/168 - 296s - loss: 0.0535 - accuracy: 0.9818 - val_loss: 0.6126 - val_accuracy: 0.8610Epoch 8/30168/168 - 294s - loss: 0.0530 - accuracy: 0.9831 - val_loss: 0.6675 - val_accuracy: 0.8593Epoch 9/30168/168 - 295s - loss: 0.0507 - accuracy: 0.9834 - val_loss: 0.6370 - val_accuracy: 0.8623Epoch 10/30168/168 - 294s - loss: 0.0469 - accuracy: 0.9856 - val_loss: 0.6525 - val_accuracy: 0.8597Epoch 11/30168/168 - 294s - loss: 0.0499 - accuracy: 0.9836 - val_loss: 0.6457 - val_accuracy: 0.8597Epoch 12/30168/168 - 294s - loss: 0.0431 - accuracy: 0.9862 - val_loss: 0.7047 - val_accuracy: 0.8625Epoch 13/30168/168 - 294s - loss: 0.0434 - accuracy: 0.9857 - val_loss: 0.7283 - val_accuracy: 0.8567Epoch 14/30168/168 - 294s - loss: 0.0419 - accuracy: 0.9866 - val_loss: 0.7125 - val_accuracy: 0.8582Epoch 15/30168/168 - 294s - loss: 0.0422 - accuracy: 0.9864 - val_loss: 0.7198 - val_accuracy: 0.8606Epoch 16/30168/168 - 294s - loss: 0.0387 - accuracy: 0.9871 - val_loss: 0.7296 - val_accuracy: 0.8606Epoch 17/30168/168 - 294s - loss: 0.0423 - accuracy: 0.9856 - val_loss: 0.7079 - val_accuracy: 0.8584Epoch 18/30168/168 - 294s - loss: 0.0397 - accuracy: 0.9859 - val_loss: 0.7428 - val_accuracy: 0.8593Epoch 19/30168/168 - 294s - loss: 0.0363 - accuracy: 0.9868 - val_loss: 0.7694 - val_accuracy: 0.8582Epoch 20/30168/168 - 294s - loss: 0.0323 - accuracy: 0.9894 - val_loss: 0.7919 - val_accuracy: 0.8582Epoch 21/30168/168 - 294s - loss: 0.0302 - accuracy: 0.9905 - val_loss: 0.7887 - val_accuracy: 0.8590Epoch 22/30168/168 - 294s - loss: 0.0311 - accuracy: 0.9899 - val_loss: 0.7879 - val_accuracy: 0.8591Epoch 23/30168/168 - 294s - loss: 0.0284 - accuracy: 0.9903 - val_loss: 0.8022 - val_accuracy: 0.8562Epoch 24/30168/168 - 295s - loss: 0.0287 - accuracy: 0.9911 - val_loss: 0.8360 - val_accuracy: 0.8549Epoch 25/30168/168 - 295s - loss: 0.0261 - accuracy: 0.9916 - val_loss: 0.8405 - val_accuracy: 0.8575Epoch 26/30168/168 - 294s - loss: 0.0248 - accuracy: 0.9912 - val_loss: 0.8704 - val_accuracy: 0.8595Epoch 27/30168/168 - 292s - loss: 0.0234 - accuracy: 0.9923 - val_loss: 0.8573 - val_accuracy: 0.8543Epoch 28/30168/168 - 293s - loss: 0.0267 - accuracy: 0.9909 - val_loss: 0.8601 - val_accuracy: 0.8517Epoch 29/30168/168 - 292s - loss: 0.0208 - accuracy: 0.9932 - val_loss: 0.9293 - val_accuracy: 0.8582Epoch 30/30168/168 - 293s - loss: 0.0221 - accuracy: 0.9931 - val_loss: 0.9070 - val_accuracy: 0.8515413/413 - 56s - loss: 0.8755 - accuracy: 0.8560Test Score: 0.8755455613136292Test Accuracy: 0.8559848666191101</th>\n",
       "    </tr>\n",
       "  </thead>\n",
       "  <tbody>\n",
       "  </tbody>\n",
       "</table>\n",
       "</div>"
      ],
      "text/plain": [
       "Empty DataFrame\n",
       "Columns: [Epoch 1/30168/168 - 297s - loss: 0.0808 - accuracy: 0.9731 - val_loss: 0.4863 - val_accuracy: 0.8646Epoch 2/30168/168 - 294s - loss: 0.0731 - accuracy: 0.9755 - val_loss: 0.5151 - val_accuracy: 0.8662Epoch 3/30168/168 - 295s - loss: 0.0659 - accuracy: 0.9784 - val_loss: 0.5238 - val_accuracy: 0.8614Epoch 4/30168/168 - 295s - loss: 0.0628 - accuracy: 0.9797 - val_loss: 0.5503 - val_accuracy: 0.8655Epoch 5/30168/168 - 295s - loss: 0.0596 - accuracy: 0.9805 - val_loss: 0.5876 - val_accuracy: 0.8625Epoch 6/30168/168 - 295s - loss: 0.0574 - accuracy: 0.9811 - val_loss: 0.6062 - val_accuracy: 0.8638Epoch 7/30168/168 - 296s - loss: 0.0535 - accuracy: 0.9818 - val_loss: 0.6126 - val_accuracy: 0.8610Epoch 8/30168/168 - 294s - loss: 0.0530 - accuracy: 0.9831 - val_loss: 0.6675 - val_accuracy: 0.8593Epoch 9/30168/168 - 295s - loss: 0.0507 - accuracy: 0.9834 - val_loss: 0.6370 - val_accuracy: 0.8623Epoch 10/30168/168 - 294s - loss: 0.0469 - accuracy: 0.9856 - val_loss: 0.6525 - val_accuracy: 0.8597Epoch 11/30168/168 - 294s - loss: 0.0499 - accuracy: 0.9836 - val_loss: 0.6457 - val_accuracy: 0.8597Epoch 12/30168/168 - 294s - loss: 0.0431 - accuracy: 0.9862 - val_loss: 0.7047 - val_accuracy: 0.8625Epoch 13/30168/168 - 294s - loss: 0.0434 - accuracy: 0.9857 - val_loss: 0.7283 - val_accuracy: 0.8567Epoch 14/30168/168 - 294s - loss: 0.0419 - accuracy: 0.9866 - val_loss: 0.7125 - val_accuracy: 0.8582Epoch 15/30168/168 - 294s - loss: 0.0422 - accuracy: 0.9864 - val_loss: 0.7198 - val_accuracy: 0.8606Epoch 16/30168/168 - 294s - loss: 0.0387 - accuracy: 0.9871 - val_loss: 0.7296 - val_accuracy: 0.8606Epoch 17/30168/168 - 294s - loss: 0.0423 - accuracy: 0.9856 - val_loss: 0.7079 - val_accuracy: 0.8584Epoch 18/30168/168 - 294s - loss: 0.0397 - accuracy: 0.9859 - val_loss: 0.7428 - val_accuracy: 0.8593Epoch 19/30168/168 - 294s - loss: 0.0363 - accuracy: 0.9868 - val_loss: 0.7694 - val_accuracy: 0.8582Epoch 20/30168/168 - 294s - loss: 0.0323 - accuracy: 0.9894 - val_loss: 0.7919 - val_accuracy: 0.8582Epoch 21/30168/168 - 294s - loss: 0.0302 - accuracy: 0.9905 - val_loss: 0.7887 - val_accuracy: 0.8590Epoch 22/30168/168 - 294s - loss: 0.0311 - accuracy: 0.9899 - val_loss: 0.7879 - val_accuracy: 0.8591Epoch 23/30168/168 - 294s - loss: 0.0284 - accuracy: 0.9903 - val_loss: 0.8022 - val_accuracy: 0.8562Epoch 24/30168/168 - 295s - loss: 0.0287 - accuracy: 0.9911 - val_loss: 0.8360 - val_accuracy: 0.8549Epoch 25/30168/168 - 295s - loss: 0.0261 - accuracy: 0.9916 - val_loss: 0.8405 - val_accuracy: 0.8575Epoch 26/30168/168 - 294s - loss: 0.0248 - accuracy: 0.9912 - val_loss: 0.8704 - val_accuracy: 0.8595Epoch 27/30168/168 - 292s - loss: 0.0234 - accuracy: 0.9923 - val_loss: 0.8573 - val_accuracy: 0.8543Epoch 28/30168/168 - 293s - loss: 0.0267 - accuracy: 0.9909 - val_loss: 0.8601 - val_accuracy: 0.8517Epoch 29/30168/168 - 292s - loss: 0.0208 - accuracy: 0.9932 - val_loss: 0.9293 - val_accuracy: 0.8582Epoch 30/30168/168 - 293s - loss: 0.0221 - accuracy: 0.9931 - val_loss: 0.9070 - val_accuracy: 0.8515413/413 - 56s - loss: 0.8755 - accuracy: 0.8560Test Score: 0.8755455613136292Test Accuracy: 0.8559848666191101]\n",
       "Index: []"
      ]
     },
     "metadata": {},
     "output_type": "display_data"
    },
    {
     "name": "stdout",
     "output_type": "stream",
     "text": [
      "----------------------------------------------------------------------------------\n",
      "Working on: SVC-y_test - Erfan Arefi.csv\n",
      "ERROR\n"
     ]
    },
    {
     "data": {
      "text/html": [
       "<div>\n",
       "<style scoped>\n",
       "    .dataframe tbody tr th:only-of-type {\n",
       "        vertical-align: middle;\n",
       "    }\n",
       "\n",
       "    .dataframe tbody tr th {\n",
       "        vertical-align: top;\n",
       "    }\n",
       "\n",
       "    .dataframe thead th {\n",
       "        text-align: right;\n",
       "    }\n",
       "</style>\n",
       "<table border=\"1\" class=\"dataframe\">\n",
       "  <thead>\n",
       "    <tr style=\"text-align: right;\">\n",
       "      <th></th>\n",
       "      <th>id</th>\n",
       "      <th>label</th>\n",
       "    </tr>\n",
       "  </thead>\n",
       "  <tbody>\n",
       "    <tr>\n",
       "      <th>0</th>\n",
       "      <td>e52ef7b35e4a4dd0a100a6f390fda273</td>\n",
       "      <td>1</td>\n",
       "    </tr>\n",
       "    <tr>\n",
       "      <th>1</th>\n",
       "      <td>0362b11f85ae46e198a21e2369c9688b</td>\n",
       "      <td>0</td>\n",
       "    </tr>\n",
       "  </tbody>\n",
       "</table>\n",
       "</div>"
      ],
      "text/plain": [
       "                                 id  label\n",
       "0  e52ef7b35e4a4dd0a100a6f390fda273      1\n",
       "1  0362b11f85ae46e198a21e2369c9688b      0"
      ]
     },
     "metadata": {},
     "output_type": "display_data"
    },
    {
     "name": "stdout",
     "output_type": "stream",
     "text": [
      "----------------------------------------------------------------------------------\n",
      "Working on: sasvm__SVM(linearSVC)__Test2 - Shadi Barzegar.csv\n",
      "Accuracy: 0.4888\n",
      "\n",
      "F1 Score: 0.4958579881656805\n",
      "\n",
      "Classification Report:\n",
      "               precision    recall  f1-score   support\n",
      "\n",
      "           0       0.49      0.48      0.48      2495\n",
      "           1       0.49      0.50      0.50      2505\n",
      "\n",
      "    accuracy                           0.49      5000\n",
      "   macro avg       0.49      0.49      0.49      5000\n",
      "weighted avg       0.49      0.49      0.49      5000\n",
      "\n",
      "None\n",
      "----------------------------------------------------------------------------------\n"
     ]
    }
   ],
   "source": [
    "import os\n",
    "import pandas as pd\n",
    "\n",
    "sub_dir = \"../submissions/sub-2\"\n",
    "path_to_gt = '../dataset/test/Test-GT.csv'\n",
    "\n",
    "for csv in os.listdir(sub_dir):\n",
    "    path = os.path.join(sub_dir, csv)\n",
    "    if '.csv' not in path:\n",
    "        continue\n",
    "    print(\"Working on:\", csv)\n",
    "    try:\n",
    "        print(evaluator.evaluate(path_to_gt, path))\n",
    "    except:\n",
    "        print(\"ERROR\")\n",
    "        try:\n",
    "            df = pd.read_csv(path)\n",
    "            display(df.head(2))\n",
    "        except:\n",
    "            print(\"It IS NOT A PREDICTION::FAIL\")\n",
    "    print(\"----------------------------------------------------------------------------------\")"
   ]
  },
  {
   "cell_type": "code",
   "execution_count": 31,
   "metadata": {},
   "outputs": [],
   "source": [
    "from sklearn.metrics import accuracy_score, classification_report, f1_score\n",
    "\n",
    "def load_pred(path):\n",
    "    df = pd.read_csv(path)\n",
    "    return df['Pred'], df['ID']\n",
    "\n",
    "def load_gt(path):\n",
    "    df = pd.read_csv(path)\n",
    "    return df['label'], df['ID']\n",
    "\n",
    "def evaluate(path_to_gt, preds):\n",
    "    y_gt, y_id = load_gt(path_to_gt)\n",
    "    y_pred = preds\n",
    "    \n",
    "    print(\"Accuracy:\", accuracy_score(y_gt, y_pred), end='\\n\\n')\n",
    "    print(\"F1 Score:\", f1_score(y_gt, y_pred), end='\\n\\n')\n",
    "    print(\"Classification Report:\\n\", classification_report(y_gt, y_pred))    "
   ]
  },
  {
   "cell_type": "code",
   "execution_count": null,
   "metadata": {},
   "outputs": [],
   "source": []
  },
  {
   "cell_type": "code",
   "execution_count": 32,
   "metadata": {},
   "outputs": [
    {
     "name": "stdout",
     "output_type": "stream",
     "text": [
      "SVC-y_test - Erfan Arefi.csv\n",
      "Accuracy: 0.9058\n",
      "\n",
      "F1 Score: 0.9068985965605851\n",
      "\n",
      "Classification Report:\n",
      "               precision    recall  f1-score   support\n",
      "\n",
      "           0       0.91      0.90      0.90      2495\n",
      "           1       0.90      0.92      0.91      2505\n",
      "\n",
      "    accuracy                           0.91      5000\n",
      "   macro avg       0.91      0.91      0.91      5000\n",
      "weighted avg       0.91      0.91      0.91      5000\n",
      "\n"
     ]
    }
   ],
   "source": [
    "##CHECKING FAILS\n",
    "print(\"SVC-y_test - Erfan Arefi.csv\")\n",
    "path = \"../submissions/sub-2/SVC-y_test - Erfan Arefi.csv\"\n",
    "\n",
    "preds = pd.read_csv(path)['label']\n",
    "evaluate(path_to_gt, preds)"
   ]
  },
  {
   "cell_type": "code",
   "execution_count": 33,
   "metadata": {},
   "outputs": [
    {
     "name": "stdout",
     "output_type": "stream",
     "text": [
      "SVM - Parand Shams.csv\n",
      "Accuracy: 0.9018\n",
      "\n",
      "F1 Score: 0.9029068617757564\n",
      "\n",
      "Classification Report:\n",
      "               precision    recall  f1-score   support\n",
      "\n",
      "           0       0.91      0.89      0.90      2495\n",
      "           1       0.89      0.91      0.90      2505\n",
      "\n",
      "    accuracy                           0.90      5000\n",
      "   macro avg       0.90      0.90      0.90      5000\n",
      "weighted avg       0.90      0.90      0.90      5000\n",
      "\n"
     ]
    }
   ],
   "source": [
    "##CHECKING FAILS\n",
    "print(\"SVM - Parand Shams.csv\")\n",
    "path = \"../submissions/sub-2/SVM - Parand Shams.csv\"\n",
    "\n",
    "preds = pd.read_csv(path)['predicted']\n",
    "evaluate(path_to_gt, preds)"
   ]
  },
  {
   "cell_type": "code",
   "execution_count": 34,
   "metadata": {},
   "outputs": [],
   "source": [
    "pk = '../submissions/sub-2/parisa_delkhah_logisticRmodel__Test1  - Parisa Khosroshahi.csv'\n",
    "sb = '../submissions/sub-2/sasvm__SVM(linearSVC)__Test2 - Shadi Barzegar.csv'"
   ]
  },
  {
   "cell_type": "code",
   "execution_count": 37,
   "metadata": {},
   "outputs": [
    {
     "data": {
      "text/html": [
       "<div>\n",
       "<style scoped>\n",
       "    .dataframe tbody tr th:only-of-type {\n",
       "        vertical-align: middle;\n",
       "    }\n",
       "\n",
       "    .dataframe tbody tr th {\n",
       "        vertical-align: top;\n",
       "    }\n",
       "\n",
       "    .dataframe thead th {\n",
       "        text-align: right;\n",
       "    }\n",
       "</style>\n",
       "<table border=\"1\" class=\"dataframe\">\n",
       "  <thead>\n",
       "    <tr style=\"text-align: right;\">\n",
       "      <th></th>\n",
       "      <th>Pred</th>\n",
       "      <th>ID</th>\n",
       "    </tr>\n",
       "  </thead>\n",
       "  <tbody>\n",
       "    <tr>\n",
       "      <th>0</th>\n",
       "      <td>0</td>\n",
       "      <td>6c507ab837ba481cbbda0faf6e91203e</td>\n",
       "    </tr>\n",
       "    <tr>\n",
       "      <th>1</th>\n",
       "      <td>0</td>\n",
       "      <td>5d2c2b525360491a9bff9134269b2817</td>\n",
       "    </tr>\n",
       "    <tr>\n",
       "      <th>2</th>\n",
       "      <td>0</td>\n",
       "      <td>c145996ba6fd42b88fcfb5427d0d1984</td>\n",
       "    </tr>\n",
       "    <tr>\n",
       "      <th>3</th>\n",
       "      <td>0</td>\n",
       "      <td>185adef02bc24678b8521c6bd41dd595</td>\n",
       "    </tr>\n",
       "    <tr>\n",
       "      <th>4</th>\n",
       "      <td>1</td>\n",
       "      <td>5ef7a95182874c3db33c54e82109e107</td>\n",
       "    </tr>\n",
       "  </tbody>\n",
       "</table>\n",
       "</div>"
      ],
      "text/plain": [
       "   Pred                                ID\n",
       "0     0  6c507ab837ba481cbbda0faf6e91203e\n",
       "1     0  5d2c2b525360491a9bff9134269b2817\n",
       "2     0  c145996ba6fd42b88fcfb5427d0d1984\n",
       "3     0  185adef02bc24678b8521c6bd41dd595\n",
       "4     1  5ef7a95182874c3db33c54e82109e107"
      ]
     },
     "execution_count": 37,
     "metadata": {},
     "output_type": "execute_result"
    }
   ],
   "source": [
    "pk_df = pd.read_csv(pk)\n",
    "pk_df.head()"
   ]
  },
  {
   "cell_type": "code",
   "execution_count": 38,
   "metadata": {},
   "outputs": [
    {
     "data": {
      "text/html": [
       "<div>\n",
       "<style scoped>\n",
       "    .dataframe tbody tr th:only-of-type {\n",
       "        vertical-align: middle;\n",
       "    }\n",
       "\n",
       "    .dataframe tbody tr th {\n",
       "        vertical-align: top;\n",
       "    }\n",
       "\n",
       "    .dataframe thead th {\n",
       "        text-align: right;\n",
       "    }\n",
       "</style>\n",
       "<table border=\"1\" class=\"dataframe\">\n",
       "  <thead>\n",
       "    <tr style=\"text-align: right;\">\n",
       "      <th></th>\n",
       "      <th>Pred</th>\n",
       "      <th>ID</th>\n",
       "    </tr>\n",
       "  </thead>\n",
       "  <tbody>\n",
       "    <tr>\n",
       "      <th>0</th>\n",
       "      <td>0</td>\n",
       "      <td>6c507ab837ba481cbbda0faf6e91203e</td>\n",
       "    </tr>\n",
       "    <tr>\n",
       "      <th>1</th>\n",
       "      <td>0</td>\n",
       "      <td>5d2c2b525360491a9bff9134269b2817</td>\n",
       "    </tr>\n",
       "    <tr>\n",
       "      <th>2</th>\n",
       "      <td>0</td>\n",
       "      <td>c145996ba6fd42b88fcfb5427d0d1984</td>\n",
       "    </tr>\n",
       "    <tr>\n",
       "      <th>3</th>\n",
       "      <td>0</td>\n",
       "      <td>185adef02bc24678b8521c6bd41dd595</td>\n",
       "    </tr>\n",
       "    <tr>\n",
       "      <th>4</th>\n",
       "      <td>1</td>\n",
       "      <td>5ef7a95182874c3db33c54e82109e107</td>\n",
       "    </tr>\n",
       "  </tbody>\n",
       "</table>\n",
       "</div>"
      ],
      "text/plain": [
       "   Pred                                ID\n",
       "0     0  6c507ab837ba481cbbda0faf6e91203e\n",
       "1     0  5d2c2b525360491a9bff9134269b2817\n",
       "2     0  c145996ba6fd42b88fcfb5427d0d1984\n",
       "3     0  185adef02bc24678b8521c6bd41dd595\n",
       "4     1  5ef7a95182874c3db33c54e82109e107"
      ]
     },
     "execution_count": 38,
     "metadata": {},
     "output_type": "execute_result"
    }
   ],
   "source": [
    "sb_df = pd.read_csv(sb)\n",
    "sb_df.head()"
   ]
  },
  {
   "cell_type": "code",
   "execution_count": null,
   "metadata": {},
   "outputs": [],
   "source": []
  }
 ],
 "metadata": {
  "kernelspec": {
   "display_name": "Python 3",
   "language": "python",
   "name": "python3"
  },
  "language_info": {
   "codemirror_mode": {
    "name": "ipython",
    "version": 3
   },
   "file_extension": ".py",
   "mimetype": "text/x-python",
   "name": "python",
   "nbconvert_exporter": "python",
   "pygments_lexer": "ipython3",
   "version": "3.6.9"
  }
 },
 "nbformat": 4,
 "nbformat_minor": 2
}
